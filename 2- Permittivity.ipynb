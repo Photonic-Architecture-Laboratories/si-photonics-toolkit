{
 "cells": [
  {
   "attachments": {},
   "cell_type": "markdown",
   "metadata": {},
   "source": [
    "# Relative Permittivity"
   ]
  },
  {
   "attachments": {},
   "cell_type": "markdown",
   "metadata": {},
   "source": [
    "## Relative Permittivity of Silicon and Silicon Dioxide"
   ]
  },
  {
   "attachments": {},
   "cell_type": "markdown",
   "metadata": {},
   "source": [
    "Relative permittivity of Si or SiO2. \n",
    "\n",
    "* It takes **1 argument** which is **wavelength** in micrometers.\n",
    "* Similar to effective index function, wavelength range is between 1.2 and 1.7 micrometers.\n",
    "\n",
    "Arguments:\n",
    "\n",
    "* **wavelength** (float or ArrayLike): wavelength in micrometers, range 1.2 - 1.7\n",
    "\n",
    "Returns:\n",
    "\n",
    "* **permittivity** (ArrayLike): relative permittivity of specified material"
   ]
  },
  {
   "attachments": {},
   "cell_type": "markdown",
   "metadata": {},
   "source": [
    "Relative permittivity of silicon at a wavelength of 1.55 micrometers:"
   ]
  },
  {
   "cell_type": "code",
   "execution_count": 1,
   "metadata": {
    "execution": {
     "iopub.execute_input": "2025-07-02T12:52:21.822081Z",
     "iopub.status.busy": "2025-07-02T12:52:21.821896Z",
     "iopub.status.idle": "2025-07-02T12:52:27.885723Z",
     "shell.execute_reply": "2025-07-02T12:52:27.885176Z"
    }
   },
   "outputs": [
    {
     "data": {
      "text/plain": [
       "Array(12.085654, dtype=float32)"
      ]
     },
     "execution_count": 1,
     "metadata": {},
     "output_type": "execute_result"
    }
   ],
   "source": [
    "import sipkit\n",
    "\n",
    "sipkit.perm_si(1.55)"
   ]
  },
  {
   "attachments": {},
   "cell_type": "markdown",
   "metadata": {},
   "source": [
    "Relative permittivity of silicon dioxide at a wavelength of 1.55 micrometers:"
   ]
  },
  {
   "cell_type": "code",
   "execution_count": 2,
   "metadata": {
    "execution": {
     "iopub.execute_input": "2025-07-02T12:52:27.887614Z",
     "iopub.status.busy": "2025-07-02T12:52:27.887358Z",
     "iopub.status.idle": "2025-07-02T12:52:27.960629Z",
     "shell.execute_reply": "2025-07-02T12:52:27.959995Z"
    }
   },
   "outputs": [
    {
     "data": {
      "text/plain": [
       "Array([2.0967681, 2.0966997, 2.0965319, 2.0963635, 2.0961957, 2.0960279,\n",
       "       2.0958598, 2.0956922, 2.0955245, 2.0953567, 2.0951893, 2.095022 ,\n",
       "       2.094855 , 2.094688 , 2.0945208, 2.0943542, 2.0941877, 2.0940213,\n",
       "       2.093855 , 2.0936887, 2.0935228, 2.0933568, 2.0931911, 2.0930257,\n",
       "       2.0928602, 2.092695 , 2.0925298, 2.092365 , 2.0922   , 2.0920353,\n",
       "       2.091871 , 2.0917065, 2.0915422, 2.0913782, 2.0912144, 2.0910506,\n",
       "       2.0908868, 2.090722 , 2.0905566, 2.0903904, 2.090223 , 2.090055 ,\n",
       "       2.0898862, 2.0897164, 2.089546 , 2.0893745, 2.0892022, 2.0890298,\n",
       "       2.0888577, 2.0886855, 2.0885136, 2.0883422, 2.088171 , 2.088    ,\n",
       "       2.087829 , 2.0876586, 2.0874887, 2.0873187, 2.0871491, 2.0869796,\n",
       "       2.0868104, 2.0866406, 2.0864706, 2.0863001, 2.0861292, 2.0859578,\n",
       "       2.085786 , 2.085614 , 2.0854414, 2.0852685, 2.0850952, 2.0849214,\n",
       "       2.084747 , 2.0845726, 2.0843976, 2.0842223, 2.0840464, 2.0838702,\n",
       "       2.0836935, 2.0835164, 2.0833385, 2.08316  , 2.0829806, 2.0828006,\n",
       "       2.08262  , 2.0824382, 2.082256 , 2.082073 , 2.0818892, 2.0817049,\n",
       "       2.0815196, 2.0813336, 2.0811472, 2.0809598, 2.0807729, 2.0805898,\n",
       "       2.08041  , 2.0802324, 2.08005  , 2.079862 ], dtype=float32)"
      ]
     },
     "execution_count": 2,
     "metadata": {},
     "output_type": "execute_result"
    }
   ],
   "source": [
    "import jax.numpy as jnp\n",
    "\n",
    "sipkit.perm_oxide(jnp.linspace(1.2, 1.7, 100))"
   ]
  }
 ],
 "metadata": {
  "kernelspec": {
   "display_name": "Python 3.10.4 ('venv': venv)",
   "language": "python",
   "name": "python3"
  },
  "language_info": {
   "codemirror_mode": {
    "name": "ipython",
    "version": 3
   },
   "file_extension": ".py",
   "mimetype": "text/x-python",
   "name": "python",
   "nbconvert_exporter": "python",
   "pygments_lexer": "ipython3",
   "version": "3.13.5"
  },
  "vscode": {
   "interpreter": {
    "hash": "4e01abd3e30b98011fd1fabc8e0d7dae4a95fa8a0bd51fcdf991b961a51ca7b3"
   }
  }
 },
 "nbformat": 4,
 "nbformat_minor": 4
}
