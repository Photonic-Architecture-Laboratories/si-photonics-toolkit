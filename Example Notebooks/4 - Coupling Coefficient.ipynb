{
 "metadata": {
  "language_info": {
   "codemirror_mode": {
    "name": "ipython",
    "version": 3
   },
   "file_extension": ".py",
   "mimetype": "text/x-python",
   "name": "python",
   "nbconvert_exporter": "python",
   "pygments_lexer": "ipython3",
   "version": 3
  },
  "orig_nbformat": 2,
  "kernelspec": {
   "name": "python_defaultSpec_1595429191756",
   "display_name": "Python 3.8.2 32-bit"
  }
 },
 "nbformat": 4,
 "nbformat_minor": 2,
 "cells": [
  {
   "cell_type": "markdown",
   "metadata": {},
   "source": [
    "# Usage"
   ]
  },
  {
   "cell_type": "markdown",
   "metadata": {},
   "source": [
    "This function returns coupling coefficient between two waveguides in units of ${\\mu}m^{-1}$.\n",
    "\n",
    "* It takes **4 arguments** which are:\n",
    "  * **width1**: width of the first waveguide.  (*0.3 < width1 < 0.7*)\n",
    "  * **width2**: width of the second waveguide. (*0.3 < width1 < 0.7*)\n",
    "  * **gap**: gap between the waveguides.       (*0.2 < gap < 2*)\n",
    "  * **wavelength**: in micron.                (*1.2 < wavelength < 1.7*)\n",
    "\n",
    "All arguments must be entered in terms of ${\\mu}m$."
   ]
  },
  {
   "cell_type": "markdown",
   "metadata": {},
   "source": [
    "Example below shows how to get coupling coefficient of a symmetrical waveguide pair."
   ]
  },
  {
   "cell_type": "code",
   "execution_count": 2,
   "metadata": {
    "tags": []
   },
   "outputs": [
    {
     "output_type": "stream",
     "name": "stdout",
     "text": "0.04125955308192366\n"
    }
   ],
   "source": [
    "import siphotonics as sip \n",
    "\n",
    "print(sip.couplingCoefficient(0.5, 0.5, 0.2, 1.55))"
   ]
  },
  {
   "cell_type": "markdown",
   "metadata": {},
   "source": [
    "If waveguides are not symmetrical, let us say,\n",
    "* Width of the first waveguide is 0.45 microns,\n",
    "* Width of the second waveguide is 0.5 microns.\n",
    "* gap between the waveguides is 0.2 microns.\n",
    "* Wavelength is 1.55 microns.\n",
    "\n",
    "The code  \n",
    "```python\n",
    "    couplingCoefficient(0.45, 0.5, 0.2, 1.55)\n",
    "``` \n",
    "returns the coupling coefficient onto the waveguide that has width as 0.5 microns."
   ]
  },
  {
   "cell_type": "code",
   "execution_count": 3,
   "metadata": {
    "tags": []
   },
   "outputs": [
    {
     "output_type": "stream",
     "name": "stdout",
     "text": "0.0634749806570084\n0.0427856113439163\n"
    }
   ],
   "source": [
    "import siphotonics as siphotonics\n",
    "\n",
    "print(sip.couplingCoefficient(0.45, 0.5, 0.2, 1.55))\n",
    "print(sip.couplingCoefficient(0.5, 0.45, 0.2, 1.55))"
   ]
  }
 ]
}