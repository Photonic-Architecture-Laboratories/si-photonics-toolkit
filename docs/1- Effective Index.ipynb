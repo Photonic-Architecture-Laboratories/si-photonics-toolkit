{
 "cells": [
  {
   "cell_type": "markdown",
   "metadata": {},
   "source": [
    "# Effective Index"
   ]
  },
  {
   "cell_type": "markdown",
   "metadata": {},
   "source": [
    "## First Order Effective Index"
   ]
  },
  {
   "cell_type": "markdown",
   "metadata": {},
   "source": [
    "First order effective index of a waveguide can be accessed by using `neff` function of `effective_index` module. The function takes the following arguments:\n",
    "\n",
    "- `wavelength`: Wavelength of the light in the waveguide, in microns. A list of wavelengths can also be passed. Wavelength range is from 1.2 to 1.7 microns, it will return 0 for wavelengths out of range.\n",
    "- `width`: Width of the waveguide, in microns. A list of widths can also be passed. Width range is from 0.24 to 0.7 microns, it will return 0 for widths out of range."
   ]
  },
  {
   "cell_type": "code",
   "execution_count": null,
   "metadata": {},
   "outputs": [],
   "source": [
    "from siphotonics.effective_index import neff\n",
    "\n",
    "neff(width=0.5, wavelength=1.55)\n"
   ]
  },
  {
   "cell_type": "markdown",
   "metadata": {},
   "source": [
    "Effective Index of a Waveguide at multiple wavelengths and widths can be calculated by passing a list of wavelengths or widths. Type of the list should be a `DeviceArray` from Jax. There are three ways to make `neff` function work with multiple wavelengths or widths:\n",
    "\n",
    "1. Pass a DeviceArray of wavelengths and a width value as arguments to the function to get effective index with respect to wavelengths for a fixed width value.\n",
    "    "
   ]
  },
  {
   "cell_type": "code",
   "execution_count": null,
   "metadata": {},
   "outputs": [],
   "source": [
    "import jax.numpy as jnp\n",
    "\n",
    "neff_list = neff(width=jnp.linspace(0.4, 0.5, 5), wavelength=1.55)\n",
    "print(neff_list)"
   ]
  },
  {
   "cell_type": "markdown",
   "metadata": {},
   "source": [
    "2. Pass a DeviceArray of widths and a wavelength value as arguments to the function to get effective index with respect to widths for a fixed wavelength value."
   ]
  },
  {
   "cell_type": "code",
   "execution_count": null,
   "metadata": {},
   "outputs": [],
   "source": [
    "neff_list = neff(width=0.5, wavelength=jnp.linspace(1.4, 1.5, 5))\n",
    "print(neff_list)"
   ]
  },
  {
   "cell_type": "markdown",
   "metadata": {},
   "source": [
    "3. Pass a DeviceArray of widths and wavelengths as arguments to the function to get effective index for pairs of widths and wavelengths. The function will return a 1D array of effective indices for each pair of width and wavelength. **Note that** the length of wavelengths and widths should be same since the function will return a 1D array of effective indices by pairing the elements of the two lists."
   ]
  },
  {
   "cell_type": "code",
   "execution_count": null,
   "metadata": {},
   "outputs": [],
   "source": [
    "neff_list = neff(width=jnp.linspace(0.4, 0.5, 5), wavelength=jnp.linspace(1.4, 1.5, 5))\n",
    "print(neff_list)"
   ]
  },
  {
   "cell_type": "markdown",
   "metadata": {},
   "source": [
    "## Effective Index of Higher Order Modes"
   ]
  },
  {
   "cell_type": "markdown",
   "metadata": {},
   "source": [
    "Effective Index of first 5 modes in a waveguide can be accessed by using the following functions of `effective_index` module:\n",
    "\n",
    "- `neff_te0`: Effective index of TE0 mode.\n",
    "- `neff_tm0`: Effective index of TM0 mode.\n",
    "- `neff_te1`: Effective index of TE1 mode.\n",
    "- `neff_tm1`: Effective index of TM0 mode.\n",
    "- `neff_te2`: Effective index of TE3 mode.\n"
   ]
  },
  {
   "cell_type": "code",
   "execution_count": null,
   "metadata": {},
   "outputs": [],
   "source": [
    "from siphotonics.effective_index import neff_te0, neff_tm0\n",
    "\n",
    "\n",
    "neff_te0_list = neff_te0(width=jnp.linspace(0.4, 0.5, 5), wavelength=1.55)\n",
    "print(neff_te0_list)\n",
    "\n",
    "neff_tm0_list = neff_tm0(width=jnp.linspace(0.4, 0.5, 5), wavelength=1.55)\n",
    "print(neff_tm0_list)\n"
   ]
  },
  {
   "cell_type": "markdown",
   "metadata": {},
   "source": [
    "For the cases where the effective index of a mode does not exist, the function will return index of oxide layer as the effective index at that wavelength."
   ]
  },
  {
   "cell_type": "code",
   "execution_count": null,
   "metadata": {},
   "outputs": [],
   "source": [
    "from siphotonics.effective_index import neff_te2\n",
    "\n",
    "\n",
    "neff_te2_list = neff_te2(width=jnp.linspace(0.4, 0.5, 5), wavelength=1.55)\n",
    "print(neff_te2_list)\n"
   ]
  }
 ],
 "metadata": {
  "kernelspec": {
   "display_name": "Python 3.10.4 ('venv': venv)",
   "language": "python",
   "name": "python3"
  },
  "language_info": {
   "codemirror_mode": {
    "name": "ipython",
    "version": 3
   },
   "file_extension": ".py",
   "mimetype": "text/x-python",
   "name": "python",
   "nbconvert_exporter": "python",
   "pygments_lexer": "ipython3",
   "version": "3.10.4"
  },
  "vscode": {
   "interpreter": {
    "hash": "4e01abd3e30b98011fd1fabc8e0d7dae4a95fa8a0bd51fcdf991b961a51ca7b3"
   }
  }
 },
 "nbformat": 4,
 "nbformat_minor": 4
}
