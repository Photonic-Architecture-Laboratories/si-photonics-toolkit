{
 "cells": [
  {
   "cell_type": "markdown",
   "metadata": {},
   "source": [
    "# Group Index"
   ]
  },
  {
   "cell_type": "markdown",
   "metadata": {
    "collapsed": true,
    "pycharm": {
     "name": "#%% md\n"
    }
   },
   "source": [
    "## Getting Started"
   ]
  },
  {
   "cell_type": "markdown",
   "metadata": {
    "collapsed": false
   },
   "source": [
    "This function returns group index of light at fundamental mode for given waveguide width and wavelength.\n",
    "\n",
    "Group Index can be expressed as the following equation where $n_{eff}$ is the effective index, $n_g$ is the group index, $\\omega$ is the waveguide width, and $\\lambda$ is the wavelength.\n",
    "\n",
    "$$n_g(\\omega, \\lambda) =  n_{eff}(\\omega, \\lambda) - \\lambda \\cdot  \\frac{\\partial n_{eff}(\\omega, \\lambda)}{\\partial \\lambda}$$\n",
    "\n",
    "\n",
    "Thanks to Siphotonics, group index can be either calculated from scratch using `neff` function, or built-in function `group_index`."
   ]
  },
  {
   "cell_type": "markdown",
   "metadata": {},
   "source": [
    "**Note**: `group_index` function implementation is based on finite difference method. Therefore, the result is not exact. However, the result is accurate enough for most of the cases. If you need exact result, please use `grad_neff` function to calculate the derivative of `neff` function."
   ]
  },
  {
   "cell_type": "code",
   "execution_count": null,
   "metadata": {
    "collapsed": false,
    "pycharm": {
     "name": "#%%\n"
    }
   },
   "outputs": [],
   "source": [
    "import sipkit\n",
    "\n",
    "\n",
    "my_ng = sipkit.group_index(width=0.5, wavelength=1.55)\n",
    "\n",
    "\n",
    "print(my_ng)"
   ]
  },
  {
   "cell_type": "markdown",
   "metadata": {
    "collapsed": false
   },
   "source": [
    "## Free Spectral Range (FSR)\n",
    "\n",
    "FSR is the distance between two consecutive resonant frequencies. It can be expressed as the following equation where $L$ is the spee, $\\lambda$ is the wavelength, and $n_g$ is the group index.\n",
    "\n",
    "$$FSR = \\frac{\\lambda^2}{n_{g}L}$$"
   ]
  },
  {
   "cell_type": "code",
   "execution_count": null,
   "metadata": {
    "collapsed": false,
    "pycharm": {
     "name": "#%%\n"
    }
   },
   "outputs": [],
   "source": [
    "def fsr(length, width, wavelength):\n",
    "    \"\"\"\n",
    "    Calculates the free spectral range of a waveguide. This is the distance\n",
    "    between two consecutive resonances.\n",
    "    :param length: Propagation length in microns.\n",
    "    :param width: Waveguide width in microns.\n",
    "    :param wavelength: Wavelength in microns.\n",
    "    :return: Free spectral range in microns.\n",
    "    \"\"\"\n",
    "    return wavelength ** 2 / (sipkit.group_index(width, wavelength) * length)\n",
    "\n",
    "\n",
    "my_fsr = fsr(wavelength=1.55, width=0.5, wavelength=1.55)\n",
    "print(my_fsr)"
   ]
  }
 ],
 "metadata": {
  "kernelspec": {
   "display_name": "Python 3.10.4 ('venv': venv)",
   "language": "python",
   "name": "python3"
  },
  "language_info": {
   "codemirror_mode": {
    "name": "ipython",
    "version": 2
   },
   "file_extension": ".py",
   "mimetype": "text/x-python",
   "name": "python",
   "nbconvert_exporter": "python",
   "pygments_lexer": "ipython2",
   "version": "3.10.4"
  },
  "vscode": {
   "interpreter": {
    "hash": "4e01abd3e30b98011fd1fabc8e0d7dae4a95fa8a0bd51fcdf991b961a51ca7b3"
   }
  }
 },
 "nbformat": 4,
 "nbformat_minor": 0
}
