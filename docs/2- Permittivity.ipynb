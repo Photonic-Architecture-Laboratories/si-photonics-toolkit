{
 "cells": [
  {
   "cell_type": "markdown",
   "metadata": {},
   "source": [
    "# Dielectric Constant of Silicon and Silicon Dioxide"
   ]
  },
  {
   "cell_type": "markdown",
   "metadata": {},
   "source": [
    "## Getting Started"
   ]
  },
  {
   "cell_type": "markdown",
   "metadata": {},
   "source": [
    "Dielectric constant (relative permittivity) of Si or SiO2. \n",
    "\n",
    "* It takes **1 argument** which is **wavelength** in micrometers.\n",
    "* Similar to effective index function, wavelength range is between 1.2 μm and 1.7 μm.\n",
    "\n",
    "Arguments:\n",
    "\n",
    "* **wavelength** (float): wavelength in micrometers, range 1.2 - 1.7\n",
    "\n",
    "Returns:\n",
    "\n",
    "* **permittivity** (float): permittivity of specified material"
   ]
  },
  {
   "cell_type": "markdown",
   "metadata": {},
   "source": [
    "Dielectric constant of silicon at a wavelength of 1.55 μm:"
   ]
  },
  {
   "cell_type": "code",
   "execution_count": null,
   "metadata": {},
   "outputs": [],
   "source": [
    "import sipkit\n",
    "\n",
    "print(sipkit.perm_si(1.55))"
   ]
  },
  {
   "cell_type": "markdown",
   "metadata": {},
   "source": [
    "Dielectric constant of silicon dioxide at a wavelength of 1.55 μm:"
   ]
  },
  {
   "cell_type": "code",
   "execution_count": null,
   "metadata": {},
   "outputs": [],
   "source": [
    "print(sipkit.perm_oxide(1.55))"
   ]
  },
  {
   "cell_type": "markdown",
   "metadata": {},
   "source": [
    "## Exceptions"
   ]
  },
  {
   "cell_type": "markdown",
   "metadata": {},
   "source": [
    "Unless the first argument is between 1.2 μm and 1.7 μm, it will raise an exception:"
   ]
  },
  {
   "cell_type": "code",
   "execution_count": null,
   "metadata": {},
   "outputs": [],
   "source": [
    "print(sipkit.perm_oxide(1.15))\n"
   ]
  },
  {
   "cell_type": "code",
   "execution_count": null,
   "metadata": {},
   "outputs": [],
   "source": [
    "print(sipkit.perm_oxide(1.823))"
   ]
  }
 ],
 "metadata": {
  "kernelspec": {
   "display_name": "Python 3.10.4 ('venv': venv)",
   "language": "python",
   "name": "python3"
  },
  "language_info": {
   "codemirror_mode": {
    "name": "ipython",
    "version": 3
   },
   "file_extension": ".py",
   "mimetype": "text/x-python",
   "name": "python",
   "nbconvert_exporter": "python",
   "pygments_lexer": "ipython3",
   "version": "3.10.4"
  },
  "vscode": {
   "interpreter": {
    "hash": "4e01abd3e30b98011fd1fabc8e0d7dae4a95fa8a0bd51fcdf991b961a51ca7b3"
   }
  }
 },
 "nbformat": 4,
 "nbformat_minor": 4
}
