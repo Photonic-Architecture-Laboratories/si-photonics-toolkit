{
 "cells": [
  {
   "cell_type": "markdown",
   "metadata": {},
   "source": [
    "# Group Index"
   ]
  },
  {
   "attachments": {},
   "cell_type": "markdown",
   "metadata": {
    "collapsed": true,
    "pycharm": {
     "name": "#%% md\n"
    }
   },
   "source": [
    "## Group Index of Silicon Waveguide"
   ]
  },
  {
   "attachments": {},
   "cell_type": "markdown",
   "metadata": {
    "collapsed": false
   },
   "source": [
    "This function returns group index of the fundamental mode for given waveguide width and wavelength.\n",
    "\n",
    "Group Index is calculated using the following equation where $n_\\mathrm{eff}$ is the effective index, $n_g$ is the group index, $w$ is the waveguide width, and $\\lambda$ is the wavelength.\n",
    "\n",
    "$$n_g(w, \\lambda) =  n_\\mathrm{eff}(w, \\lambda) - \\lambda \\cdot  \\frac{\\partial n_\\mathrm{eff}(w, \\lambda)}{\\partial \\lambda}$$\n",
    "\n",
    "\n",
    "This is what is implemented in the built-in function `ng`."
   ]
  },
  {
   "attachments": {},
   "cell_type": "markdown",
   "metadata": {},
   "source": [
    "**Note**: `ng` function implementation is based on finite difference method. Therefore, the result is not exact. However, the result is accurate enough for most of the cases. If you need exact result, please use `grad_neff` function to calculate the derivative of `neff` function."
   ]
  },
  {
   "cell_type": "code",
   "execution_count": null,
   "metadata": {
    "collapsed": false,
    "pycharm": {
     "name": "#%%\n"
    }
   },
   "outputs": [],
   "source": [
    "import sipkit\n",
    "import matplotlib.pyplot as plt\n",
    "from jax import numpy as jnp\n",
    "from jax import numpy as jnp\n",
    "\n",
    "%matplotlib inline\n",
    "\n",
    "wavelengths = jnp.linspace(1.5, 1.6, 1000)\n",
    "group_index_400 = jnp.array([sipkit.ng(0.4, wl) for wl in wavelengths])\n",
    "group_index_450 = jnp.array([sipkit.ng(0.45, wl) for wl in wavelengths])\n",
    "group_index_500 = jnp.array([sipkit.ng(0.5, wl) for wl in wavelengths])\n",
    "group_index_550 = jnp.array([sipkit.ng(0.55, wl) for wl in wavelengths])\n",
    "group_index_600 = jnp.array([sipkit.ng(0.6, wl) for wl in wavelengths])\n"
   ]
  },
  {
   "cell_type": "code",
   "execution_count": null,
   "metadata": {},
   "outputs": [],
   "source": [
    "plt.plot(wavelengths, group_index_400, label='400 nm')\n",
    "plt.plot(wavelengths, group_index_450, label='450 nm')\n",
    "plt.plot(wavelengths, group_index_500, label='500 nm')\n",
    "plt.plot(wavelengths, group_index_550, label='550 nm')\n",
    "plt.plot(wavelengths, group_index_600, label='600 nm')\n",
    "plt.legend()\n",
    "plt.xlabel('Wavelength (μm)')\n",
    "plt.ylabel('Group index')\n",
    "plt.title('Group index of a SOI strip waveguide (SiO2/Si)')\n",
    "plt.ylim(4.0, 4.4)\n",
    "plt.xlim(1.5, 1.6)\n",
    "plt.grid(axis='y', color='0.9', linestyle='-', linewidth=1)\n",
    "plt.show()"
   ]
  },
  {
   "cell_type": "markdown",
   "metadata": {
    "collapsed": false
   },
   "source": [
    "## Free Spectral Range (FSR)\n",
    "\n",
    "As an example, the group index can be used to calculate the free spectral range (FSR) of a resonator, the spectral spacing between two consecutive resonant wavelengths. The FSR can be expressed as the following equation where $L$ is the round-trip cavity length, $\\lambda$ is the wavelength, and $n_g$ is the group index.\n",
    "\n",
    "$$FSR = \\frac{\\lambda^2}{n_{g}L}$$"
   ]
  },
  {
   "cell_type": "code",
   "execution_count": null,
   "metadata": {
    "collapsed": false,
    "pycharm": {
     "name": "#%%\n"
    }
   },
   "outputs": [],
   "source": [
    "def fsr(width, wavelength, length):\n",
    "    \"\"\"\n",
    "    Calculates the free spectral range of a waveguide. This is the distance\n",
    "    between two consecutive resonances.\n",
    "    :param width: Waveguide width in micrometers.\n",
    "    :param wavelength: Wavelength in micrometers.\n",
    "    :param length: Propagation length in micrometers.\n",
    "    :return: Free spectral range in micrometers.\n",
    "    \"\"\"\n",
    "    return wavelength ** 2 / (sipkit.ng(width, wavelength) * length)\n",
    "\n",
    "\n",
    "my_fsr = fsr(width=0.5, wavelength=1.55, length=30)\n",
    "my_fsr"
   ]
  }
 ],
 "metadata": {
  "kernelspec": {
   "display_name": "Python 3.10.4 ('venv': venv)",
   "language": "python",
   "name": "python3"
  },
  "language_info": {
   "codemirror_mode": {
    "name": "ipython",
    "version": 2
   },
   "file_extension": ".py",
   "mimetype": "text/x-python",
   "name": "python",
   "nbconvert_exporter": "python",
   "pygments_lexer": "ipython2",
   "version": "3.10.4"
  },
  "vscode": {
   "interpreter": {
    "hash": "4e01abd3e30b98011fd1fabc8e0d7dae4a95fa8a0bd51fcdf991b961a51ca7b3"
   }
  }
 },
 "nbformat": 4,
 "nbformat_minor": 0
}
