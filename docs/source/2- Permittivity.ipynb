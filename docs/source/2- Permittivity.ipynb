{
 "cells": [
  {
   "attachments": {},
   "cell_type": "markdown",
   "metadata": {},
   "source": [
    "# Relative Permittivity"
   ]
  },
  {
   "attachments": {},
   "cell_type": "markdown",
   "metadata": {},
   "source": [
    "## Relative Permittivity of Silicon and Silicon Dioxide"
   ]
  },
  {
   "attachments": {},
   "cell_type": "markdown",
   "metadata": {},
   "source": [
    "Relative permittivity of Si or SiO2. \n",
    "\n",
    "* It takes **1 argument** which is **wavelength** in micrometers.\n",
    "* Similar to effective index function, wavelength range is between 1.2 and 1.7 micrometers.\n",
    "\n",
    "Arguments:\n",
    "\n",
    "* **wavelength** (float or ArrayLike): wavelength in micrometers, range 1.2 - 1.7\n",
    "\n",
    "Returns:\n",
    "\n",
    "* **permittivity** (ArrayLike): relative permittivity of specified material"
   ]
  },
  {
   "attachments": {},
   "cell_type": "markdown",
   "metadata": {},
   "source": [
    "Relative permittivity of silicon at a wavelength of 1.55 micrometers:"
   ]
  },
  {
   "cell_type": "code",
   "execution_count": null,
   "metadata": {},
   "outputs": [],
   "source": [
    "import sipkit\n",
    "\n",
    "sipkit.perm_si(1.55)"
   ]
  },
  {
   "attachments": {},
   "cell_type": "markdown",
   "metadata": {},
   "source": [
    "Relative permittivity of silicon dioxide at a wavelength of 1.55 micrometers:"
   ]
  },
  {
   "cell_type": "code",
   "execution_count": null,
   "metadata": {},
   "outputs": [],
   "source": [
    "import jax.numpy as jnp\n",
    "\n",
    "sipkit.perm_oxide(jnp.linspace(1.2, 1.7, 100))"
   ]
  }
 ],
 "metadata": {
  "kernelspec": {
   "display_name": "Python 3.10.4 ('venv': venv)",
   "language": "python",
   "name": "python3"
  },
  "language_info": {
   "codemirror_mode": {
    "name": "ipython",
    "version": 3
   },
   "file_extension": ".py",
   "mimetype": "text/x-python",
   "name": "python",
   "nbconvert_exporter": "python",
   "pygments_lexer": "ipython3",
   "version": "3.10.4"
  },
  "vscode": {
   "interpreter": {
    "hash": "4e01abd3e30b98011fd1fabc8e0d7dae4a95fa8a0bd51fcdf991b961a51ca7b3"
   }
  }
 },
 "nbformat": 4,
 "nbformat_minor": 4
}
