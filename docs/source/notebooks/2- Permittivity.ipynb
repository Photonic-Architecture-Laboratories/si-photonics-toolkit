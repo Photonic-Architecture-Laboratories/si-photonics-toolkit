{
 "cells": [
  {
   "cell_type": "markdown",
   "metadata": {},
   "source": [
    "# Dielectric Constant of Silicon and Silicon Dioxide"
   ]
  },
  {
   "cell_type": "markdown",
   "metadata": {},
   "source": [
    "## Getting Started"
   ]
  },
  {
   "cell_type": "markdown",
   "metadata": {},
   "source": [
    "Dielectric constant (permittivity) of specified materials. (**Si/SiO2**)\n",
    "\n",
    "* It takes **1 argument** which is **wavelength** in micron.\n",
    "* Similar to effective index function, wavelength range is between 1.2 - 1.7 microns.\n",
    "\n",
    "Arguments:\n",
    "\n",
    "* **wavelength** (float): wavelength in micron, range 1.2 - 1.7\n",
    "\n",
    "Returns:\n",
    "\n",
    "* **permittivity** (float): permittivity of specified material"
   ]
  },
  {
   "cell_type": "markdown",
   "metadata": {},
   "source": [
    "See dielectric constant of Silicon at wavelength 1.55 micron:"
   ]
  },
  {
   "cell_type": "code",
   "execution_count": null,
   "metadata": {},
   "outputs": [],
   "source": [
    "import siphotonics as sip\n",
    "\n",
    "print(sip.perm_si(1.55))"
   ]
  },
  {
   "cell_type": "markdown",
   "metadata": {},
   "source": [
    "Below code returns dielectric constant of Silicon Dioxide at wavelength 1.55 micron:"
   ]
  },
  {
   "cell_type": "code",
   "execution_count": null,
   "metadata": {},
   "outputs": [],
   "source": [
    "print(sip.perm_oxide(1.55))"
   ]
  },
  {
   "cell_type": "markdown",
   "metadata": {},
   "source": [
    "## Exceptions"
   ]
  },
  {
   "cell_type": "markdown",
   "metadata": {},
   "source": [
    "Unless the first argument is between 1200 - 1700 nm, it will raise an exception."
   ]
  },
  {
   "cell_type": "code",
   "execution_count": null,
   "metadata": {},
   "outputs": [],
   "source": [
    "print(sip.perm_oxide(1.15))\n"
   ]
  },
  {
   "cell_type": "code",
   "execution_count": null,
   "metadata": {},
   "outputs": [],
   "source": [
    "print(sip.perm_oxide(1.823))"
   ]
  }
 ],
 "metadata": {
  "kernelspec": {
   "display_name": "Python 3.6.9 ('venv': venv)",
   "language": "python",
   "name": "python3"
  },
  "language_info": {
   "codemirror_mode": {
    "name": "ipython",
    "version": 3
   },
   "file_extension": ".py",
   "mimetype": "text/x-python",
   "name": "python",
   "nbconvert_exporter": "python",
   "pygments_lexer": "ipython3",
   "version": "3.9.14"
  },
  "vscode": {
   "interpreter": {
    "hash": "11b09df82f7cfb921adae55db76a606fec0ce1c7b802db2570eb36b36c75dba5"
   }
  }
 },
 "nbformat": 4,
 "nbformat_minor": 4
}
