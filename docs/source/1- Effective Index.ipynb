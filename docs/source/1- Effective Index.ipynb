{
 "cells": [
  {
   "cell_type": "markdown",
   "metadata": {},
   "source": [
    "# Effective Index"
   ]
  },
  {
   "cell_type": "markdown",
   "metadata": {},
   "source": [
    "## Effective Index of the Fundamental Mode"
   ]
  },
  {
   "attachments": {},
   "cell_type": "markdown",
   "metadata": {},
   "source": [
    "Effective index of the fundamental mode of a 220-nm-thick silicon-on-insulator waveguide can be accessed by using `neff` function of `effective_index` module. Note that for the default parameters below, this mode happens to be a TE mode. The function takes the following arguments:\n",
    "\n",
    "- `wavelength`: Wavelength of the light in the waveguide, in micrometers. A list of wavelengths can also be passed. Wavelength range is from 1.2 μm to 1.7 μm; it will return 0 for wavelengths out of range.\n",
    "- `width`: Width of the waveguide, in micrometers. A list of widths can also be passed. Width range is from 0.240 μm to 0.700 μm; it will return 0 for widths out of range."
   ]
  },
  {
   "cell_type": "code",
   "execution_count": null,
   "metadata": {},
   "outputs": [],
   "source": [
    "from sipkit.effective_index import neff\n",
    "import jax.numpy as jnp\n",
    "\n",
    "neff(width=0.5, wavelength=1.55)\n"
   ]
  },
  {
   "attachments": {},
   "cell_type": "markdown",
   "metadata": {},
   "source": [
    "**Note**: If there is no GPU/TPU available, Jax will automatically fall back to CPU backend. This will result in a significant slowdown in the runtime.\n"
   ]
  },
  {
   "attachments": {},
   "cell_type": "markdown",
   "metadata": {},
   "source": [
    "## Argument Specifications"
   ]
  },
  {
   "cell_type": "markdown",
   "metadata": {},
   "source": [
    "* Scalar width, scalar wavelength"
   ]
  },
  {
   "cell_type": "code",
   "execution_count": null,
   "metadata": {},
   "outputs": [],
   "source": [
    "neff(width=0.5, wavelength=1.55)"
   ]
  },
  {
   "cell_type": "markdown",
   "metadata": {},
   "source": [
    "*  Scalar width, 1D Array wavelength\n"
   ]
  },
  {
   "cell_type": "code",
   "execution_count": null,
   "metadata": {},
   "outputs": [],
   "source": [
    "neff(width=0.5, wavelength=jnp.linspace(1.4, 1.5, 5))"
   ]
  },
  {
   "cell_type": "markdown",
   "metadata": {},
   "source": [
    "* 1D Array width, scalar wavelength"
   ]
  },
  {
   "cell_type": "code",
   "execution_count": null,
   "metadata": {},
   "outputs": [],
   "source": [
    "neff(width=jnp.linspace(0.4, 0.5, 5), wavelength=1.55)"
   ]
  },
  {
   "cell_type": "markdown",
   "metadata": {},
   "source": [
    "* 1D Array width, 1D Array wavelength"
   ]
  },
  {
   "cell_type": "code",
   "execution_count": null,
   "metadata": {},
   "outputs": [],
   "source": [
    "neff(width=jnp.linspace(0.4, 0.5, 5), wavelength=jnp.linspace(1.4, 1.5, 5))"
   ]
  },
  {
   "cell_type": "markdown",
   "metadata": {},
   "source": [
    "* Scalar width, 2D Array wavelength"
   ]
  },
  {
   "cell_type": "code",
   "execution_count": null,
   "metadata": {},
   "outputs": [],
   "source": [
    "neff(width=0.45, wavelength=jnp.array([[1.4, 1.5], [1.6, 1.7]]))"
   ]
  },
  {
   "cell_type": "markdown",
   "metadata": {},
   "source": [
    "* 2D Array width, scalar wavelength"
   ]
  },
  {
   "cell_type": "code",
   "execution_count": null,
   "metadata": {},
   "outputs": [],
   "source": [
    "neff(width=jnp.array([[0.4, 0.45], [0.5, 0.55]]), wavelength=1.55)"
   ]
  },
  {
   "cell_type": "markdown",
   "metadata": {},
   "source": [
    "* 2D Array width, 2D Array wavelength"
   ]
  },
  {
   "cell_type": "code",
   "execution_count": null,
   "metadata": {},
   "outputs": [],
   "source": [
    "waveguide_width = jnp.array([0.5, 0.6])\n",
    "wavelength = jnp.array([1.5, 1.6, 1.7])\n",
    "waveguide_width, wavelength = jnp.meshgrid(waveguide_width, wavelength)\n",
    "neff(waveguide_width, wavelength)"
   ]
  },
  {
   "cell_type": "markdown",
   "metadata": {},
   "source": [
    "## Effective Index of Higher Order Modes"
   ]
  },
  {
   "cell_type": "markdown",
   "metadata": {},
   "source": [
    "Effective Index of first 5 modes in a waveguide can be accessed by using the following functions of `effective_index` module:\n",
    "\n",
    "- `neff_te0`: Effective index of TE0 mode. (Note that currently this is the same as `neff`, due to the waveguide width boundaries used.) \n",
    "- `neff_tm0`: Effective index of TM0 mode.\n",
    "- `neff_te1`: Effective index of TE1 mode.\n",
    "- `neff_tm1`: Effective index of TM0 mode.\n",
    "- `neff_te2`: Effective index of TE3 mode.\n"
   ]
  },
  {
   "cell_type": "code",
   "execution_count": null,
   "metadata": {},
   "outputs": [],
   "source": [
    "from sipkit.effective_index import neff_te0, neff_tm0\n",
    "\n",
    "\n",
    "neff_te0_list = neff_te0(width=jnp.linspace(0.4, 0.5, 5), wavelength=1.55)\n",
    "print(neff_te0_list)\n",
    "\n",
    "neff_tm0_list = neff_tm0(width=jnp.linspace(0.4, 0.5, 5), wavelength=1.55)\n",
    "print(neff_tm0_list)\n"
   ]
  },
  {
   "cell_type": "markdown",
   "metadata": {},
   "source": [
    "For the cases where the effective index of a mode does not exist, the function will return index of oxide layer as the effective index at that wavelength."
   ]
  },
  {
   "cell_type": "code",
   "execution_count": null,
   "metadata": {},
   "outputs": [],
   "source": [
    "from sipkit.effective_index import neff_te2\n",
    "\n",
    "\n",
    "neff_te2_list = neff_te2(width=jnp.linspace(0.4, 0.5, 5), wavelength=1.55)\n",
    "print(neff_te2_list)\n"
   ]
  }
 ],
 "metadata": {
  "kernelspec": {
   "display_name": "Python 3.8.14 ('venv': venv)",
   "language": "python",
   "name": "python3"
  },
  "language_info": {
   "codemirror_mode": {
    "name": "ipython",
    "version": 3
   },
   "file_extension": ".py",
   "mimetype": "text/x-python",
   "name": "python",
   "nbconvert_exporter": "python",
   "pygments_lexer": "ipython3",
   "version": "3.8.14"
  },
  "vscode": {
   "interpreter": {
    "hash": "eb26d1f464d83cc132d29586da56ea2612fddcc0b0c8722df54bbe8709ef07f0"
   }
  }
 },
 "nbformat": 4,
 "nbformat_minor": 4
}
